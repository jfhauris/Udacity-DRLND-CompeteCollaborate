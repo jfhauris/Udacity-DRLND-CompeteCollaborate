{
 "cells": [
  {
   "cell_type": "markdown",
   "metadata": {},
   "source": [
    "# Collaboration and Competition\n",
    "\n",
    "---\n",
    "\n",
    "You are welcome to use this coding environment to train your agent for the project.  Follow the instructions below to get started!\n",
    "\n",
    "### 1. Start the Environment\n",
    "\n",
    "Run the next code cell to install a few packages.  This line will take a few minutes to run!"
   ]
  },
  {
   "cell_type": "code",
   "execution_count": 1,
   "metadata": {},
   "outputs": [],
   "source": [
    "!pip -q install ./python"
   ]
  },
  {
   "cell_type": "markdown",
   "metadata": {},
   "source": [
    "The environment is already saved in the Workspace and can be accessed at the file path provided below. "
   ]
  },
  {
   "cell_type": "code",
   "execution_count": 2,
   "metadata": {},
   "outputs": [
    {
     "name": "stderr",
     "output_type": "stream",
     "text": [
      "INFO:unityagents:\n",
      "'Academy' started successfully!\n",
      "Unity Academy name: Academy\n",
      "        Number of Brains: 1\n",
      "        Number of External Brains : 1\n",
      "        Lesson number : 0\n",
      "        Reset Parameters :\n",
      "\t\t\n",
      "Unity brain name: TennisBrain\n",
      "        Number of Visual Observations (per agent): 0\n",
      "        Vector Observation space type: continuous\n",
      "        Vector Observation space size (per agent): 8\n",
      "        Number of stacked Vector Observation: 3\n",
      "        Vector Action space type: continuous\n",
      "        Vector Action space size (per agent): 2\n",
      "        Vector Action descriptions: , \n"
     ]
    }
   ],
   "source": [
    "from unityagents import UnityEnvironment\n",
    "import numpy as np\n",
    "\n",
    "env = UnityEnvironment(file_name=\"/data/Tennis_Linux_NoVis/Tennis\")"
   ]
  },
  {
   "cell_type": "markdown",
   "metadata": {},
   "source": [
    "Environments contain **_brains_** which are responsible for deciding the actions of their associated agents. Here we check for the first brain available, and set it as the default brain we will be controlling from Python."
   ]
  },
  {
   "cell_type": "code",
   "execution_count": 3,
   "metadata": {},
   "outputs": [],
   "source": [
    "# get the default brain\n",
    "brain_name = env.brain_names[0]\n",
    "brain = env.brains[brain_name]"
   ]
  },
  {
   "cell_type": "markdown",
   "metadata": {},
   "source": [
    "### 2. Examine the State and Action Spaces\n",
    "\n",
    "Run the code cell below to print some information about the environment."
   ]
  },
  {
   "cell_type": "code",
   "execution_count": 4,
   "metadata": {},
   "outputs": [
    {
     "name": "stdout",
     "output_type": "stream",
     "text": [
      "Number of agents: 2\n",
      "Size of each action: 2\n",
      "There are 2 agents. Each observes a state with length: 24\n",
      "The state for the first agent looks like: [ 0.          0.          0.          0.          0.          0.          0.\n",
      "  0.          0.          0.          0.          0.          0.          0.\n",
      "  0.          0.         -6.65278625 -1.5        -0.          0.\n",
      "  6.83172083  6.         -0.          0.        ]\n"
     ]
    }
   ],
   "source": [
    "# reset the environment\n",
    "env_info = env.reset(train_mode=True)[brain_name]\n",
    "\n",
    "# number of agents \n",
    "num_agents = len(env_info.agents)\n",
    "print('Number of agents:', num_agents)\n",
    "\n",
    "# size of each action\n",
    "action_size = brain.vector_action_space_size\n",
    "print('Size of each action:', action_size)\n",
    "\n",
    "# examine the state space \n",
    "states = env_info.vector_observations\n",
    "state_size = states.shape[1]\n",
    "print('There are {} agents. Each observes a state with length: {}'.format(states.shape[0], state_size))\n",
    "print('The state for the first agent looks like:', states[0])"
   ]
  },
  {
   "cell_type": "markdown",
   "metadata": {},
   "source": [
    "### 3. Take Random Actions in the Environment\n",
    "\n",
    "In the next code cell, you will learn how to use the Python API to control the agent and receive feedback from the environment.\n",
    "\n",
    "Note that **in this coding environment, you will not be able to watch the agents while they are training**, and you should set `train_mode=True` to restart the environment."
   ]
  },
  {
   "cell_type": "code",
   "execution_count": null,
   "metadata": {},
   "outputs": [],
   "source": [
    "for i in range(5):                                         # play game for 5 episodes\n",
    "    env_info = env.reset(train_mode=False)[brain_name]     # reset the environment    \n",
    "    states = env_info.vector_observations                  # get the current state (for each agent)\n",
    "    scores = np.zeros(num_agents)                          # initialize the score (for each agent)\n",
    "    while True:\n",
    "        actions = np.random.randn(num_agents, action_size) # select an action (for each agent)\n",
    "        actions = np.clip(actions, -1, 1)                  # all actions between -1 and 1\n",
    "        env_info = env.step(actions)[brain_name]           # send all actions to tne environment\n",
    "        next_states = env_info.vector_observations         # get next state (for each agent)\n",
    "        rewards = env_info.rewards                         # get reward (for each agent)\n",
    "        dones = env_info.local_done                        # see if episode finished\n",
    "        scores += env_info.rewards                         # update the score (for each agent)\n",
    "        states = next_states                               # roll over states to next time step\n",
    "        if np.any(dones):                                  # exit loop if episode finished\n",
    "            break\n",
    "    print('Total score (averaged over agents) this episode: {}'.format(np.mean(scores)))"
   ]
  },
  {
   "cell_type": "markdown",
   "metadata": {},
   "source": [
    "When finished, you can close the environment."
   ]
  },
  {
   "cell_type": "code",
   "execution_count": null,
   "metadata": {},
   "outputs": [],
   "source": [
    "#env.close()"
   ]
  },
  {
   "cell_type": "markdown",
   "metadata": {},
   "source": [
    "### 4. It's Your Turn!\n",
    "\n",
    "Now it's your turn to train your own agent to solve the environment!  A few **important notes**:\n",
    "- When training the environment, set `train_mode=True`, so that the line for resetting the environment looks like the following:\n",
    "```python\n",
    "env_info = env.reset(train_mode=True)[brain_name]\n",
    "```\n",
    "- To structure your work, you're welcome to work directly in this Jupyter notebook, or you might like to start over with a new file!  You can see the list of files in the workspace by clicking on **_Jupyter_** in the top left corner of the notebook.\n",
    "- In this coding environment, you will not be able to watch the agents while they are training.  However, **_after training the agents_**, you can download the saved model weights to watch the agents on your own machine! "
   ]
  },
  {
   "cell_type": "code",
   "execution_count": 5,
   "metadata": {},
   "outputs": [],
   "source": [
    "from maddpg import MADDPGAgent\n",
    "from config import config\n",
    "from train import training_loop\n",
    "from play import play_loop\n",
    "\n",
    "#agent = MADDPGAgent(config=config, file_prefix=arguments.file_prefix)\n",
    "agent = MADDPGAgent(config=config, file_prefix=None)"
   ]
  },
  {
   "cell_type": "code",
   "execution_count": null,
   "metadata": {},
   "outputs": [],
   "source": [
    "print('Train mode \\n')\n",
    "training_loop(env, brain_name, agent, config)"
   ]
  },
  {
   "cell_type": "code",
   "execution_count": null,
   "metadata": {},
   "outputs": [],
   "source": []
  },
  {
   "cell_type": "code",
   "execution_count": 6,
   "metadata": {},
   "outputs": [],
   "source": [
    "from train_score_avgscore import training_loop_scores"
   ]
  },
  {
   "cell_type": "code",
   "execution_count": 7,
   "metadata": {},
   "outputs": [
    {
     "name": "stdout",
     "output_type": "stream",
     "text": [
      "E:    100 | Average:     0.0150 | Best average:     0.0157 | Last score:    -0.0100\n",
      "E:    200 | Average:     0.0130 | Best average:     0.0230 | Last score:     0.0900\n",
      "E:    300 | Average:     0.0240 | Best average:     0.0250 | Last score:    -0.0100\n",
      "E:    400 | Average:     0.0199 | Best average:     0.0280 | Last score:    -0.0100\n",
      "E:    500 | Average:     0.0100 | Best average:     0.0280 | Last score:    -0.0100\n",
      "E:    600 | Average:     0.0090 | Best average:     0.0280 | Last score:    -0.0100\n",
      "E:    700 | Average:     0.0120 | Best average:     0.0280 | Last score:    -0.0100\n",
      "E:    800 | Average:     0.0130 | Best average:     0.0280 | Last score:     0.2900\n",
      "E:    900 | Average:     0.0140 | Best average:     0.0280 | Last score:    -0.0100\n",
      "E:   1000 | Average:     0.0010 | Best average:     0.0280 | Last score:     0.0900\n",
      "E:   1100 | Average:    -0.0010 | Best average:     0.0280 | Last score:    -0.0100\n",
      "E:   1200 | Average:     0.0110 | Best average:     0.0280 | Last score:    -0.0100\n",
      "E:   1300 | Average:     0.0168 | Best average:     0.0280 | Last score:    -0.0100\n",
      "E:   1400 | Average:     0.0330 | Best average:     0.0340 | Last score:    -0.0100\n",
      "E:   1500 | Average:     0.0480 | Best average:     0.0480 | Last score:     0.0900\n",
      "E:   1600 | Average:     0.0550 | Best average:     0.0630 | Last score:    -0.0100\n",
      "E:   1700 | Average:     0.0530 | Best average:     0.0650 | Last score:    -0.0100\n",
      "E:   1800 | Average:     0.0590 | Best average:     0.0650 | Last score:     0.0900\n",
      "E:   1900 | Average:     0.0790 | Best average:     0.0850 | Last score:     0.1900\n",
      "E:   2000 | Average:     0.1100 | Best average:     0.1120 | Last score:     0.0900\n",
      "E:   2100 | Average:     0.0590 | Best average:     0.1120 | Last score:     0.0900\n",
      "E:   2200 | Average:     0.0880 | Best average:     0.1120 | Last score:     0.1900\n",
      "E:   2300 | Average:     0.1110 | Best average:     0.1160 | Last score:     0.0900\n",
      "E:   2400 | Average:     0.1100 | Best average:     0.1180 | Last score:     0.0900\n",
      "E:   2500 | Average:     0.1270 | Best average:     0.1270 | Last score:     0.0900\n",
      "E:   2600 | Average:     0.1500 | Best average:     0.1530 | Last score:     0.0900\n",
      "E:   2700 | Average:     0.1430 | Best average:     0.1640 | Last score:     0.0900\n",
      "E:   2800 | Average:     0.1680 | Best average:     0.1860 | Last score:     0.0900\n",
      "E:   2900 | Average:     0.1860 | Best average:     0.1860 | Last score:     0.0900\n",
      "E:   3000 | Average:     0.2270 | Best average:     0.2510 | Last score:     0.2900\n",
      "E:   3100 | Average:     0.2380 | Best average:     0.2510 | Last score:     0.0900\n",
      "E:   3200 | Average:     0.2238 | Best average:     0.2510 | Last score:     0.7900\n",
      "E:   3300 | Average:     0.2389 | Best average:     0.2728 | Last score:     0.0900\n",
      "E:   3400 | Average:     0.3099 | Best average:     0.3099 | Last score:     0.1900\n",
      "E:   3500 | Average:     0.4059 | Best average:     0.4059 | Last score:     1.6900\n",
      "E:   3577 | Average:     0.5039 | Best average:     0.5039 | Last score:     0.5900\r"
     ]
    }
   ],
   "source": [
    "scores, avg_scores = training_loop_scores(env, brain_name, agent, config)"
   ]
  },
  {
   "cell_type": "code",
   "execution_count": 11,
   "metadata": {},
   "outputs": [
    {
     "data": {
      "image/png": "[encoded data removed]",
      "text/plain": [
       "<matplotlib.figure.Figure at 0x7f479fded438>"
      ]
     },
     "metadata": {
      "needs_background": "light"
     },
     "output_type": "display_data"
    }
   ],
   "source": [
    "import matplotlib.pyplot as plt\n",
    "\n",
    "# plot the scores\n",
    "fig = plt.figure()\n",
    "\n",
    "ax = fig.add_subplot(221)\n",
    "plt.plot(np.arange(len(scores)), scores)\n",
    "plt.ylabel('All Scores')\n",
    "plt.xlabel('Episode #')\n",
    "\n",
    "ax = fig.add_subplot(222)\n",
    "plt.plot(np.arange(len(avg_scores)), avg_scores)\n",
    "plt.ylabel('Average 100 Scores')\n",
    "plt.xlabel('Episode #')\n",
    "\n",
    "plt.show()"
   ]
  },
  {
   "cell_type": "code",
   "execution_count": null,
   "metadata": {},
   "outputs": [],
   "source": []
  },
  {
   "cell_type": "code",
   "execution_count": null,
   "metadata": {},
   "outputs": [],
   "source": []
  },
  {
   "cell_type": "code",
   "execution_count": null,
   "metadata": {},
   "outputs": [],
   "source": [
    "print('Play mode \\n')\n",
    "#sleep(arguments.sleep)\n",
    "\n",
    "#agent = MADDPGAgent(config=config, file_prefix=arguments.file_prefix)\n",
    "#agent = MADDPGAgent(config=config, file_prefix='score_0.50_critic_1.weights')\n",
    "agent = MADDPGAgent(config=config, file_prefix='score_0.50')\n",
    "#play_loop(env, brain_name, agent, playthrougs=arguments.playthroughs)\n",
    "play_loop(env, brain_name, agent, playthrougs=10)"
   ]
  }
 ],
 "metadata": {
  "kernelspec": {
   "display_name": "Python 3",
   "language": "python",
   "name": "python3"
  },
  "language_info": {
   "codemirror_mode": {
    "name": "ipython",
    "version": 3
   },
   "file_extension": ".py",
   "mimetype": "text/x-python",
   "name": "python",
   "nbconvert_exporter": "python",
   "pygments_lexer": "ipython3",
   "version": "3.6.3"
  }
 },
 "nbformat": 4,
 "nbformat_minor": 2
}
